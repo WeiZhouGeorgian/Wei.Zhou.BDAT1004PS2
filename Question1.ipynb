{
 "cells": [
  {
   "cell_type": "code",
   "execution_count": 3,
   "id": "9a482e73",
   "metadata": {},
   "outputs": [
    {
     "data": {
      "text/plain": [
       "6"
      ]
     },
     "execution_count": 3,
     "metadata": {},
     "output_type": "execute_result"
    }
   ],
   "source": [
    "a = 0\n",
    "def  b(): \n",
    "    global  a \n",
    "    a  = c(a)  \n",
    "def  c(a): \n",
    "    return  a  +  2\n",
    "b()\n",
    "b()\n",
    "b()\n",
    "a"
   ]
  },
  {
   "cell_type": "code",
   "execution_count": null,
   "id": "251c6f56",
   "metadata": {},
   "outputs": [],
   "source": [
    "'global' allows variables to be accessed from anywhere within the code.\n",
    "b() a=2\n",
    "b() a=4\n",
    "b() a=6\n",
    "After three times excuations, now the value of a is 6"
   ]
  }
 ],
 "metadata": {
  "kernelspec": {
   "display_name": "Python 3 (ipykernel)",
   "language": "python",
   "name": "python3"
  },
  "language_info": {
   "codemirror_mode": {
    "name": "ipython",
    "version": 3
   },
   "file_extension": ".py",
   "mimetype": "text/x-python",
   "name": "python",
   "nbconvert_exporter": "python",
   "pygments_lexer": "ipython3",
   "version": "3.9.13"
  }
 },
 "nbformat": 4,
 "nbformat_minor": 5
}
