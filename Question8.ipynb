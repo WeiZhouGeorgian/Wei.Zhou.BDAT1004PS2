{
 "cells": [
  {
   "cell_type": "code",
   "execution_count": null,
   "id": "9cc47b77",
   "metadata": {},
   "outputs": [],
   "source": [
    "SELECT Temperature FROM table;\n",
    "\n",
    "SELECT DISTINCT City FROM table;\n",
    "\n",
    "SELECT * FROM table WHERE Country='India';\n",
    "\n",
    "SELECT * FROM table WHERE Season='Fall';\n",
    "\n",
    "SELECT City, Country, Season FROM table\n",
    "WHERE Rainfall BETWEEN 200 AND 400\n",
    "GROUP BY City, Country, Season;\n",
    "\n",
    "SELECT City, Country FROM table\n",
    "WHERE Season='Fall' AND Temperature > 20\n",
    "GROUP BY City, Country\n",
    "ORDER BY Temperature ASC;\n",
    "\n",
    "SELECT SUM(Rainfall) FROM table WHERE City='Cairo';\n",
    "\n",
    "SELECT Season, SUM(Rainfall) FROM table GROUP BY Season;"
   ]
  }
 ],
 "metadata": {
  "kernelspec": {
   "display_name": "Python 3 (ipykernel)",
   "language": "python",
   "name": "python3"
  },
  "language_info": {
   "codemirror_mode": {
    "name": "ipython",
    "version": 3
   },
   "file_extension": ".py",
   "mimetype": "text/x-python",
   "name": "python",
   "nbconvert_exporter": "python",
   "pygments_lexer": "ipython3",
   "version": "3.9.13"
  }
 },
 "nbformat": 4,
 "nbformat_minor": 5
}
